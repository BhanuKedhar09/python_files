{
 "cells": [
  {
   "cell_type": "markdown",
   "id": "058aacad-4c1e-47ea-a1a7-d617c3854d84",
   "metadata": {},
   "source": [
    "<h1>Sunku Bhanu Kedhaar Nath           -                                                          Z1974769 <h1>"
   ]
  },
  {
   "cell_type": "markdown",
   "id": "a8edaf68-7ebe-42db-8b80-178f079cd9b9",
   "metadata": {},
   "source": [
    "<h3>Q1) The Interest Function </h3>"
   ]
  },
  {
   "cell_type": "code",
   "execution_count": 1,
   "id": "b50b69b2-71ad-4441-8618-698949a22afa",
   "metadata": {},
   "outputs": [
    {
     "data": {
      "text/plain": [
       "10100.0"
      ]
     },
     "execution_count": 1,
     "metadata": {},
     "output_type": "execute_result"
    }
   ],
   "source": [
    "def total_with_interest(p,r):\n",
    "    A = p*(1+r)\n",
    "    return A\n",
    "total_with_interest(10000,0.01)"
   ]
  },
  {
   "cell_type": "markdown",
   "id": "afa3ccd5-8934-47ca-af87-b3e5fe754011",
   "metadata": {},
   "source": [
    "<h3> Q2) Time to Wait </h3>"
   ]
  },
  {
   "cell_type": "code",
   "execution_count": 2,
   "id": "61cb9f94-ab46-4b3a-becb-3674fa5ff113",
   "metadata": {},
   "outputs": [
    {
     "name": "stdout",
     "output_type": "stream",
     "text": [
      "70\n"
     ]
    }
   ],
   "source": [
    "#part1 = total_with_interest(1000,0.01)\n",
    "def years_until_target(p,target):\n",
    "    years = 1\n",
    "    x = p\n",
    "    total = 0 \n",
    "    while total < target:\n",
    "        x = total_with_interest(x , 0.01)\n",
    "        total = x\n",
    "        years = years+1\n",
    "    print(years)\n",
    "        \n",
    "years_until_target(total_with_interest(1000,0.01), 2000)\n",
    "#part1 in place of calling func"
   ]
  },
  {
   "cell_type": "markdown",
   "id": "f5de76d5-fce0-4864-b0ad-67e87f2f4a1f",
   "metadata": {},
   "source": [
    "<h3>Q3) Comparing Scenarios</h3>"
   ]
  },
  {
   "cell_type": "code",
   "execution_count": 3,
   "id": "34228b35-eb95-410f-b1d2-468683bdc1de",
   "metadata": {},
   "outputs": [
    {
     "name": "stdout",
     "output_type": "stream",
     "text": [
      "24\n"
     ]
    }
   ],
   "source": [
    "def years_to_catch(A1,r1,A2,r2):\n",
    "    years = 0\n",
    "    if ((A1<A2) & (r1>r2)):\n",
    "        while A1<A2:\n",
    "            A1 = total_with_interest(A1,r1)\n",
    "            A2 = total_with_interest(A2,r2)\n",
    "            years = years + 1\n",
    "    elif ((A2<A1) & (r2>r1)):\n",
    "        while A2<A1:\n",
    "            A1 = total_with_interest(A1,r1)\n",
    "            A2 = total_with_interest(A2,r2)\n",
    "            years = years + 1\n",
    "    else:\n",
    "        return float('inf')\n",
    "    return years\n",
    "print(years_to_catch(1000,0.05,2000,0.02))\n",
    "        "
   ]
  },
  {
   "cell_type": "markdown",
   "id": "1eaa98b7-674d-4efa-973c-fdfeef1167f7",
   "metadata": {},
   "source": [
    "<h3>Q4) Effect of the Number of Compounding Periods </h3>"
   ]
  },
  {
   "cell_type": "code",
   "execution_count": 4,
   "id": "a13ab495-2945-4196-9a8a-2bd102d29e7a",
   "metadata": {},
   "outputs": [
    {
     "name": "stdout",
     "output_type": "stream",
     "text": [
      "1  :  1050.0 1102.5 1157.62 1215.51 1276.28 1340.1 1407.1 1477.46 1551.33 1628.89 \n",
      "2  :  1050.62 1103.81 1159.69 1218.4 1280.08 1344.89 1412.97 1484.51 1559.66 1638.62 \n",
      "3  :  1050.84 1104.26 1160.4 1219.39 1281.38 1346.53 1414.98 1486.91 1562.51 1641.94 \n",
      "4  :  1050.95 1104.49 1160.75 1219.89 1282.04 1347.35 1415.99 1488.13 1563.94 1643.62 \n",
      "5  :  1051.01 1104.62 1160.97 1220.19 1282.43 1347.85 1416.6 1488.86 1564.81 1644.63 \n",
      "6  :  1051.05 1104.71 1161.11 1220.39 1282.7 1348.18 1417.01 1489.35 1565.39 1645.31 \n",
      "7  :  1051.08 1104.78 1161.21 1220.53 1282.88 1348.42 1417.3 1489.71 1565.81 1645.79 \n",
      "8  :  1051.11 1104.83 1161.29 1220.64 1283.03 1348.6 1417.52 1489.97 1566.12 1646.16 \n",
      "9  :  1051.13 1104.87 1161.35 1220.73 1283.14 1348.74 1417.69 1490.17 1566.36 1646.44 \n",
      "10  :  1051.14 1104.9 1161.4 1220.79 1283.23 1348.85 1417.83 1490.34 1566.55 1646.67 \n",
      "11  :  1051.15 1104.92 1161.44 1220.85 1283.3 1348.94 1417.94 1490.47 1566.71 1646.85 \n",
      "12  :  1051.16 1104.94 1161.47 1220.9 1283.36 1349.02 1418.04 1490.59 1566.85 1647.01 \n"
     ]
    }
   ],
   "source": [
    "def compounding(p,r,n):\n",
    "    x = p*((1+(r/n))**n)\n",
    "    return x\n",
    "def q4(p,r,n):\n",
    "    A = p\n",
    "    for n in range(1,13):\n",
    "        print(n,\" : \" , end = \" \")\n",
    "        for j in range(1,11):\n",
    "            A = compounding(A, 0.05,n)\n",
    "            print(round(A,2), end = \" \")\n",
    "        print()\n",
    "        A = p\n",
    "q4(1000,0.05,12)"
   ]
  },
  {
   "cell_type": "code",
   "execution_count": null,
   "id": "198f5642-5a44-4162-8658-55e6e9682b1b",
   "metadata": {},
   "outputs": [],
   "source": []
  }
 ],
 "metadata": {
  "kernelspec": {
   "display_name": "Python 3.10",
   "language": "python",
   "name": "python3"
  },
  "language_info": {
   "codemirror_mode": {
    "name": "ipython",
    "version": 3
   },
   "file_extension": ".py",
   "mimetype": "text/x-python",
   "name": "python",
   "nbconvert_exporter": "python",
   "pygments_lexer": "ipython3",
   "version": "3.10.5"
  }
 },
 "nbformat": 4,
 "nbformat_minor": 5
}
