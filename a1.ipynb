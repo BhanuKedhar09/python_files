{
 "cells": [
  {
   "cell_type": "markdown",
   "id": "d50e5a8a-5b2c-45b4-9cf5-7604ba193fb7",
   "metadata": {},
   "source": [
    "<h1>Sunku Bhanu Kedhaar Nath           -                                                          Z1974769 <h1>"
   ]
  },
  {
   "cell_type": "markdown",
   "id": "efbd432c-cde0-4148-be85-3b2e4f94bfe5",
   "metadata": {},
   "source": [
    "<h3>Q.1) Hello, Illinois</h3>"
   ]
  },
  {
   "cell_type": "code",
   "execution_count": 1,
   "id": "5b42f3fc-b6e3-48b9-a9cf-c5588bb78eac",
   "metadata": {},
   "outputs": [
    {
     "name": "stdout",
     "output_type": "stream",
     "text": [
      "Hello,\n",
      "Illinois\n"
     ]
    }
   ],
   "source": [
    "print(\"Hello,\\nIllinois\")"
   ]
  },
  {
   "cell_type": "markdown",
   "id": "497ce928-6df9-4a03-ae68-b79168cdb42e",
   "metadata": {},
   "source": [
    "<h3>Q.2) Hello, name </h3>"
   ]
  },
  {
   "cell_type": "code",
   "execution_count": 2,
   "id": "de9952b0-f7f2-4e05-836a-9028e9c67345",
   "metadata": {},
   "outputs": [
    {
     "name": "stdout",
     "output_type": "stream",
     "text": [
      "Hello, Bhanu\n"
     ]
    }
   ],
   "source": [
    "My_Name = \"Bhanu\"\n",
    "print(\"Hello, {}\".format(My_Name))\n",
    "#print(\"Hello, \", input()) also works"
   ]
  },
  {
   "cell_type": "markdown",
   "id": "85edfa62-8f0e-46ed-8d0c-7b50394f09d5",
   "metadata": {},
   "source": [
    "<h3>Q.3) Newton’s Law of Universal Gravitation </h3>"
   ]
  },
  {
   "cell_type": "code",
   "execution_count": 3,
   "id": "4462c624-f373-4afa-a964-c9966d684ce6",
   "metadata": {},
   "outputs": [
    {
     "data": {
      "text/plain": [
       "1.963182784495425e+20"
      ]
     },
     "execution_count": 3,
     "metadata": {},
     "output_type": "execute_result"
    }
   ],
   "source": [
    "Gravitational_Constant =6.67408*(10**(-11))\n",
    "Mass_of_Earth= 5.972*(10**(24))\n",
    "Mass_Of_Moon = 7.342*(10**(22))\n",
    "Distance = 3.844*(10**(8))\n",
    "Gravitatinal_Force  = Gravitational_Constant*((Mass_of_Earth * Mass_Of_Moon)/(Distance**2))\n",
    "Gravitatinal_Force\n",
    "#1.9628651021471085e+20 N"
   ]
  },
  {
   "cell_type": "markdown",
   "id": "659de8d0-6ced-42ab-997a-ec080cbddcaa",
   "metadata": {},
   "source": [
    "<h3>Q.4) Quadratic Formula <h3>"
   ]
  },
  {
   "cell_type": "code",
   "execution_count": 6,
   "id": "594d5541-be3b-44ef-b6c5-536bdce2861c",
   "metadata": {},
   "outputs": [
    {
     "name": "stdout",
     "output_type": "stream",
     "text": [
      "The solutions of x are 1.5 and 1.0\n"
     ]
    }
   ],
   "source": [
    "a = 2\n",
    "b = -5\n",
    "c = 3\n",
    "import cmath\n",
    "import math\n",
    "value = (b**2) - (4*a*c)\n",
    "value = (value)**(1/2)\n",
    "solution_1 = (-b + (value))/(2*a)\n",
    "solution_2 = (-b - (value))/(2*a)\n",
    "print(\"The solutions of x are {} and {}\".format(solution_1, solution_2))"
   ]
  },
  {
   "cell_type": "code",
   "execution_count": null,
   "id": "333e600b-9a38-42cf-9025-45753ca89b2e",
   "metadata": {},
   "outputs": [],
   "source": [
    "\n"
   ]
  },
  {
   "cell_type": "code",
   "execution_count": null,
   "id": "3d3f6e11-5042-4044-8ac0-d59d11ce0abc",
   "metadata": {},
   "outputs": [],
   "source": []
  }
 ],
 "metadata": {
  "kernelspec": {
   "display_name": "Python 3.10",
   "language": "python",
   "name": "python3"
  },
  "language_info": {
   "codemirror_mode": {
    "name": "ipython",
    "version": 3
   },
   "file_extension": ".py",
   "mimetype": "text/x-python",
   "name": "python",
   "nbconvert_exporter": "python",
   "pygments_lexer": "ipython3",
   "version": "3.10.5"
  }
 },
 "nbformat": 4,
 "nbformat_minor": 5
}
