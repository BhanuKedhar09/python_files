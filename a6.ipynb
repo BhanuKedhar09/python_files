{
 "cells": [
  {
   "cell_type": "markdown",
   "id": "c2ba8f2a-292a-4c6e-885b-8ff24e6ccd35",
   "metadata": {},
   "source": [
    "<h1>Sunku Bhanu Kedhaar Nath           -                                                          Z1974769 <h1>"
   ]
  },
  {
   "cell_type": "code",
   "execution_count": 1,
   "id": "128d413f-1188-4749-9b1d-4dc931645ea2",
   "metadata": {},
   "outputs": [],
   "source": [
    "class StoreItem:\n",
    "    \n",
    "    def __init__(self,name = None,sku= None,price =None):\n",
    "        self.name = name\n",
    "        self.sku = sku\n",
    "        self.price = price\n",
    "        self.store_list = []\n",
    "        self.unit= None\n",
    "    # def printing(self):\n",
    "    #     re = f\"{self.name} ({self.sku}) @ {self.price}\"\n",
    "    #     return re\n",
    "    \n",
    "    def __str__(self):\n",
    "        re = f\"{self.name} ({self.sku}) @ {self.price}\"\n",
    "        return re\n",
    "\n",
    "class GroceryItem(StoreItem):\n",
    "    def __init__(self,name,sku,price,nutrition = None):\n",
    "        super().__init__(name,sku,price)\n",
    "        self.nutrition = nutrition if nutrition is not None else {}\n",
    "        \n",
    "        \n",
    "class HouseholdItem(StoreItem):\n",
    "    def __init__(self,name,sku,price,brand_name):\n",
    "        super().__init__(name,sku,price)\n",
    "        self.brand_name = brand_name\n",
    "        \n",
    "        \n",
    "class BulkItem(GroceryItem):\n",
    "    def __init__(self,name,sku,price,unit,nutrition = None):\n",
    "        super().__init__(name,sku,price,nutrition)\n",
    "        self.unit = unit\n",
    "        \n",
    "    def __str__(self):\n",
    "        re = f\"{self.name} ({self.sku}) @ {self.price}/{self.unit}\"\n",
    "        return re\n",
    "        \n",
    "    # def printing(self):\n",
    "    #     re = f\"{self.name} ({self.sku}) @ {self.price}/{self.unit}\"\n",
    "    #     return re\n",
    "        \n",
    "        "
   ]
  },
  {
   "cell_type": "code",
   "execution_count": 2,
   "id": "f82073f9-9831-47cd-a195-19cb5e36ccb4",
   "metadata": {},
   "outputs": [],
   "source": [
    "# cereal = GroceryItem(\"Cheerios\", 38942, 3.99, {'calories': 200, 'fat': 0})\n",
    "# bananas = BulkItem(\"Bananas\", 4011, 0.59, \"lb\")\n",
    "# print(f\"Two items: {cereal}, {bananas}\")\n"
   ]
  },
  {
   "cell_type": "code",
   "execution_count": 3,
   "id": "6c406a6a-3027-4eac-acf1-65a0ea5bc492",
   "metadata": {},
   "outputs": [],
   "source": [
    "# class Inventory:\n",
    "#     p=StoreItem()\n",
    "#     STORE_DICT = {}\n",
    "#     # def __init__(self,name,sku,price,amount):\n",
    "#     #     self.name = name\n",
    "#     #     self.sku = sku\n",
    "#     #     self.price = price\n",
    "#     #     self.amount = amount\n",
    "    \n",
    "#     def add_items(self,SItem,amount):\n",
    "#         self.amo = amount\n",
    "#         ind = {}\n",
    "#         if SItem.sku in Inventory.STORE_DICT.keys(): #and SItem.amount:\n",
    "#             ind = {\"Name\" : SItem.name, \"Price\" : SItem.price, \"Amount\" : Inventory.STORE_DICT[SItem.sku].get(\"Amount\") + self.amo, \"unit\" : Inventory.STORE_DICT[SItem.unit]}\n",
    "#             Inventory.STORE_DICT[SItem.sku].update(ind)\n",
    "#         else:\n",
    "#             ind = {\"Name\" : SItem.name, \"Price\" : SItem.price, \"Amount\" : self.amo}\n",
    "#             Inventory.STORE_DICT[SItem.sku] = ind\n",
    "#         Inventory.p.__str__()\n",
    "#         print(SItem)\n",
    "#         return Inventory.STORE_DICT\n",
    "    \n",
    "    \n",
    "#     def remove_items(self,SItem,amount):\n",
    "#         self.amo=amount\n",
    "#         if SItem.sku in Inventory.STORE_DICT.keys():\n",
    "#             if Inventory.STORE_DICT[SItem.sku][\"Amount\"] > amount:\n",
    "#                 Inventory.STORE_DICT[SItem.sku][\"Amount\"] -= self.amo \n",
    "#             else:\n",
    "#                 raise Exception(\"Not Enough Items are present to remove\")\n",
    "#         else:\n",
    "#             raise Exception(f\"{SItem.sku} {SItem.name} Not to be found\")\n",
    "        \n",
    "#         return Inventory.STORE_DICT\n",
    "        \n",
    "#     def find_item(self, sku):\n",
    "#         if sku in Inventory.STORE_DICT.keys():\n",
    "#             return Inventory.STORE_DICT[sku]\n",
    "#         else:\n",
    "#             raise KeyError(\"sku not found\")\n",
    "            \n",
    "#     def has_enough(self, SItem, amount):\n",
    "#         if Inventory.STORE_DICT[SItem.sku][\"Amount\"] >amount:\n",
    "#             return True\n",
    "#         else:\n",
    "#             return False\n",
    "    \n",
    "#     def __str__(self):\n",
    "#         for k in Inventory.STORE_DICT:\n",
    "#             re = f\"{Inventory.STORE_DICT[k][\"Amount\"]} {Inventory.STORE_DICT[k][\"Name\"]} ({k}) @ {}\"\n",
    "        \n",
    "        "
   ]
  },
  {
   "cell_type": "code",
   "execution_count": 4,
   "id": "98be83b3-51ff-46b4-9f22-5d6e999eed42",
   "metadata": {},
   "outputs": [],
   "source": [
    "# # # i = Inventory('banana', 34, 12, 30)\n",
    "# i = Inventory()\n",
    "# # i.add_items(bananas, 10)\n",
    "# # # i.add_items(bananas, 20)\n",
    "# store = Inventory()\n",
    "# store.add_items(GroceryItem(\"Cheerios\", 38942, 3.99, {'calories': 200, 'fat': 0}), 10)\n",
    "# store.add_items(BulkItem(\"Bananas\", 4011, 0.59, \"lb\"), 20)"
   ]
  },
  {
   "cell_type": "code",
   "execution_count": 5,
   "id": "dfde8f2c-045c-43eb-9a8b-703a610b7b2e",
   "metadata": {},
   "outputs": [],
   "source": [
    "# store.find_item(38942)"
   ]
  },
  {
   "cell_type": "code",
   "execution_count": 6,
   "id": "2839e927-5cbf-49b4-a10b-999df2b80d50",
   "metadata": {},
   "outputs": [],
   "source": [
    "class Inventory:\n",
    "    store_dict= {}\n",
    "    def add_items(self,sitem,amount = None):\n",
    "        \n",
    "        self.amount  = amount if amount is not None else 1\n",
    "        # d = {\"Amount\" : amount}\n",
    "        # print(sitem.amount)\n",
    "        if (not isinstance(sitem,BulkItem)) and (isinstance(self.amount, float)):\n",
    "            raise Exception (\"Cannot add Floating values.\")\n",
    "            \n",
    "        else:\n",
    "            if sitem in Inventory.store_dict.keys():\n",
    "                Inventory.store_dict[sitem][\"Amount\"] += self.amount\n",
    "            else:\n",
    "                Inventory.store_dict[sitem] = {\"Amount\" : self.amount, \"sku\" : sitem.sku}\n",
    "\n",
    "        return Inventory.store_dict\n",
    "        \n",
    "    def remove_items(self,sitem,amount = None):\n",
    "        self.amount  = amount if amount is not None else 1\n",
    "        if (not isinstance(sitem,BulkItem)) and (isinstance(self.amount, float)):\n",
    "            raise Exception (\"Cannot remove Floating values\")\n",
    "            \n",
    "        else :\n",
    "            if sitem in Inventory.store_dict.keys():\n",
    "                if Inventory.store_dict[sitem][\"Amount\"] > self.amount:\n",
    "                    Inventory.store_dict[sitem][\"Amount\"] -= self.amount\n",
    "                else:\n",
    "                    raise Exception(\"Specified Amount is not present in the inventory to remove\")\n",
    "            else:\n",
    "                raise Exception(\"The item specified is not present in the Inventory\")\n",
    "            \n",
    "        return Inventory.store_dict\n",
    "    \n",
    "    def find_item(self,sku):\n",
    "        for k in Inventory.store_dict:\n",
    "            if k.sku == sku:\n",
    "                return k\n",
    "        raise Exception(f\"{sku} Item Not Found\")\n",
    "        \n",
    "    def has_enough(self,sitem,amount = None):\n",
    "        self.amount  = amount if amount is not None else 1\n",
    "        if Inventory.store_dict[sitem][\"Amount\"] > self.amount:\n",
    "            return True\n",
    "        return False\n",
    "        \n",
    "        pass\n",
    "    def __str__(self):\n",
    "        st = \"\"\n",
    "        for k in Inventory.store_dict:\n",
    "            if isinstance(k,BulkItem):\n",
    "                am = Inventory.store_dict[k][\"Amount\"]\n",
    "                re = f\"{am} {k.name} ({k.sku}) @ {k.price}/{k.unit}\"\n",
    "                st = st + re + \"\\n\"\n",
    "            else:\n",
    "                am = Inventory.store_dict[k][\"Amount\"]\n",
    "                re = f\"{am} {k.name} ({k.sku}) @ {k.price}\"\n",
    "                st = st + re + \"\\n\"\n",
    "        return st\n",
    "\n",
    "            \n",
    "            "
   ]
  },
  {
   "cell_type": "code",
   "execution_count": 7,
   "id": "bdcd0eb8-bec2-45b0-991f-42e487fde5d5",
   "metadata": {},
   "outputs": [],
   "source": [
    "# i = Inventory()\n",
    "# i.add_items(GroceryItem(\"Cheerios\", 38942, 3.99, {'calories': 200, 'fat': 0}), 10)\n",
    "# i.add_items(GroceryItem(\"Cheche\", 382, 3.99, {'calories': 200, 'fat': 0}), 40)\n",
    "# i.add_items(BulkItem(\"Bananas\", 4011, 0.59, \"lb\"), 20)\n",
    "# print(i.find_item(38942))\n",
    "# print()\n",
    "# print(f\"{i}\")"
   ]
  },
  {
   "cell_type": "code",
   "execution_count": 8,
   "id": "0d739fea-8e33-4845-a2b9-76c34f32ecf8",
   "metadata": {
    "scrolled": true,
    "tags": []
   },
   "outputs": [],
   "source": [
    "class ShoppingCart:\n",
    "    cart = {}\n",
    "    def add_items(self, sitem,amount = None):\n",
    "        self.amount  = amount if amount is not None else 1\n",
    "        if (not isinstance(sitem,BulkItem)) and (isinstance(self.amount, float)):\n",
    "            raise Exception (\"Cannot Add Floting values.\")   \n",
    "        else:\n",
    "            if sitem in ShoppingCart.cart.keys():\n",
    "                ShoppingCart.cart[sitem][\"Amount\"] += self.amount \n",
    "            else :\n",
    "                ShoppingCart.cart[sitem] = {\"Amount\" : self.amount}\n",
    "        return ShoppingCart.cart\n",
    "    \n",
    "    def remove_items(self, sitem, amount = None):\n",
    "        self.amount  = amount if amount is not None else 1\n",
    "        if (not isinstance(sitem,BulkItem)) and (isinstance(self.amount, float)):\n",
    "            raise Exception (\"Canot remove Floating Values.\")\n",
    "        else:\n",
    "            if sitem in ShoppingCart.cart.keys():\n",
    "                if ShoppingCart.cart[sitem][\"Amount\"] < self.amount :\n",
    "                    raise Exception(f\"{sitem.sku} {sitem.name}'s given amount are not available to remove\")\n",
    "                else :\n",
    "                    ShoppingCart.cart[sitem][\"Amount\"] -= self.amount\n",
    "            else:\n",
    "                raise Exception(f\"{sitem.sku}, {sitem.name} is not Added to the cart to remove\")\n",
    "        return ShoppingCart.cart\n",
    "    \n",
    "    def __str__(self):\n",
    "        st = \"\"\n",
    "        for k in ShoppingCart.cart:\n",
    "            if isinstance(k,BulkItem):\n",
    "                am = ShoppingCart.cart[k][\"Amount\"]\n",
    "                re = f\"{am} {k.name} ({k.sku}) @ {k.price}/{k.unit}\"\n",
    "                st = st + re + \"\\n\"\n",
    "            else:\n",
    "                am = ShoppingCart.cart[k][\"Amount\"]\n",
    "                re = f\"{am} {k.name} ({k.sku}) @ {k.price}\"\n",
    "                st = st + re + \"\\n\"\n",
    "        return st\n",
    "        \n",
    "    def __add__(self, sitem):\n",
    "        for k in ShoppingCart.cart:\n",
    "            if k == sitem:\n",
    "                ShoppingCart.cart[sitem][\"Amount\"] += 1\n",
    "        return ShoppingCart.cart\n",
    "    \n",
    "    def __sub__(self, sitem):\n",
    "        for k in ShoppingCart.cart:\n",
    "            if k == sitem:\n",
    "                ShoppingCart.cart[sitem][\"Amount\"] -= 1\n",
    "        return ShoppingCart.cart    \n",
    "    \n",
    "    def cost(self):\n",
    "        sum = 0\n",
    "        for k in ShoppingCart.cart:\n",
    "            sum = sum + (k.price * ShoppingCart.cart[k][\"Amount\"])\n",
    "        return sum\n",
    "        \n",
    "    \n",
    "    \n",
    "    \n",
    "        "
   ]
  },
  {
   "cell_type": "code",
   "execution_count": 9,
   "id": "24849ba9-014d-497c-bb52-ba2e23ecd141",
   "metadata": {},
   "outputs": [],
   "source": [
    "class Store:\n",
    "    MAX_CARTS = 10\n",
    "    def __init__(self):\n",
    "        self.inventory = Inventory()\n",
    "        \n",
    "    def get_cart(self):\n",
    "        Store.MAX_CARTS -= 1\n",
    "        if Store.MAX_CARTS == 0:\n",
    "            raise Exception (\"Max carts exceded\")\n",
    "        else :\n",
    "            self.shopping_cart = ShoppingCart()\n",
    "            return self.shopping_cart\n",
    "    \n",
    "    def checkout(self, my_cart):\n",
    "        cost = 0\n",
    "        not_available_in_stock = set()\n",
    "        for i in self.inventory.store_dict:\n",
    "            for j in my_cart.cart:\n",
    "                if i == j:\n",
    "                    if self.inventory.store_dict[i][\"Amount\"] >= my_cart.cart[j][\"Amount\"]:\n",
    "                        self.inventory.store_dict[i][\"Amount\"] -= my_cart.cart[j][\"Amount\"]\n",
    "                        # print(cost, i.price, my_cart.cart[j][\"Amount\"] )\n",
    "                        cost = cost + (i.price * my_cart.cart[j][\"Amount\"])\n",
    "                        \n",
    "                        \n",
    "                    else :\n",
    "                        not_available_in_stock.add(j.name)\n",
    "        if len(not_available_in_stock) >0:\n",
    "            bb = \" \".join(not_available_in_stock)\n",
    "            raise Exception (f\"{bb} are not Available\")\n",
    "        return cost\n",
    "    \n",
    "    \n",
    "    #Extra credit\n",
    "    #assuming that transfering all items of cart-c2 to cart-c1 and then removing the items in the c2 cart\n",
    "    def transfer(self,c1,c2):\n",
    "        for i in c1.cart:\n",
    "            f = 0\n",
    "            for j in c2.cart:\n",
    "                if i == j:\n",
    "                    c1.cart[i][\"Amount\"] += c2.cart[j][\"Amount\"]\n",
    "                    del c2.cart[j]\n",
    "                    f = 1\n",
    "            if f != 1:\n",
    "                c1.cart[j] = c2.cart[j][\"Amount\"]\n",
    "                del c2.cart[j]\n",
    "        return c1.cart\n",
    "                    \n",
    "        \n",
    "        \n",
    "        \n",
    "        \n",
    "    \n",
    "        \n",
    "        \n",
    "        "
   ]
  },
  {
   "cell_type": "code",
   "execution_count": 10,
   "id": "fc26d5ce-ee3f-4bc8-be3c-e30ee4dd03e7",
   "metadata": {},
   "outputs": [],
   "source": [
    "store = Store()"
   ]
  },
  {
   "cell_type": "code",
   "execution_count": 11,
   "id": "88b8186b-5d04-41a6-976d-1ef9fff34fa2",
   "metadata": {},
   "outputs": [
    {
     "data": {
      "text/plain": [
       "{<__main__.GroceryItem at 0x7f2bfb78bb80>: {'Amount': 10, 'sku': 38942},\n",
       " <__main__.HouseholdItem at 0x7f2bfb78ad70>: {'Amount': 30, 'sku': 38902},\n",
       " <__main__.BulkItem at 0x7f2bfb78a7a0>: {'Amount': 20, 'sku': 4011},\n",
       " <__main__.BulkItem at 0x7f2bfb78aad0>: {'Amount': 25, 'sku': 3982},\n",
       " <__main__.GroceryItem at 0x7f2bfb78a7d0>: {'Amount': 1, 'sku': 27894}}"
      ]
     },
     "execution_count": 11,
     "metadata": {},
     "output_type": "execute_result"
    }
   ],
   "source": [
    "store.inventory.add_items(GroceryItem(\"Cheerios\", 38942, 3.99, {'calories': 200, 'fat': 0}), 10)\n",
    "store.inventory.add_items(HouseholdItem(\"Trash Bags\", 38902, 5.99, \"Hefty\"), 30)\n",
    "store.inventory.add_items(BulkItem(\"Bananas\", 4011, 0.59, \"lb\"), 20)\n",
    "store.inventory.add_items(BulkItem(\"Lettuce\", 3982, 2.99, \"head\"), 25)\n",
    "store.inventory.add_items(GroceryItem(\"Oreos\", 27894, 3.29), 1)"
   ]
  },
  {
   "cell_type": "code",
   "execution_count": 12,
   "id": "8e907744-cc6d-4165-9450-6f3abd84ebff",
   "metadata": {},
   "outputs": [
    {
     "name": "stdout",
     "output_type": "stream",
     "text": [
      "Inventory:\n",
      "10 Cheerios (38942) @ 3.99\n",
      "30 Trash Bags (38902) @ 5.99\n",
      "20 Bananas (4011) @ 0.59/lb\n",
      "25 Lettuce (3982) @ 2.99/head\n",
      "1 Oreos (27894) @ 3.29\n",
      "\n"
     ]
    }
   ],
   "source": [
    "print(\"Inventory:\")\n",
    "print(store.inventory)"
   ]
  },
  {
   "cell_type": "code",
   "execution_count": 13,
   "id": "d7fc981b-801e-49ec-9595-4b744dd7d4b0",
   "metadata": {},
   "outputs": [
    {
     "name": "stdout",
     "output_type": "stream",
     "text": [
      "Cart:\n",
      "3 Bananas (4011) @ 0.59/lb\n",
      "1 Trash Bags (38902) @ 5.99\n",
      "1 Oreos (27894) @ 3.29\n",
      "\n"
     ]
    }
   ],
   "source": [
    "my_cart = store.get_cart()\n",
    "my_cart.add_items(store.inventory.find_item(4011), 3)\n",
    "my_cart.add_items(store.inventory.find_item(38902))\n",
    "my_cart.add_items(store.inventory.find_item(27894), 1)\n",
    "print(\"Cart:\")\n",
    "print(my_cart)\n"
   ]
  },
  {
   "cell_type": "code",
   "execution_count": 14,
   "id": "0a3099e8-f653-4cda-a890-2aaf497241fa",
   "metadata": {},
   "outputs": [
    {
     "name": "stdout",
     "output_type": "stream",
     "text": [
      "You spent $11.05\n"
     ]
    }
   ],
   "source": [
    "total_cost = store.checkout(my_cart)\n",
    "print(f\"You spent ${total_cost}\")"
   ]
  },
  {
   "cell_type": "code",
   "execution_count": 15,
   "id": "27d8af16-8274-4d59-b440-346d14b5c8fa",
   "metadata": {},
   "outputs": [
    {
     "name": "stdout",
     "output_type": "stream",
     "text": [
      "Updated Inventory:\n",
      "10 Cheerios (38942) @ 3.99\n",
      "29 Trash Bags (38902) @ 5.99\n",
      "17 Bananas (4011) @ 0.59/lb\n",
      "25 Lettuce (3982) @ 2.99/head\n",
      "0 Oreos (27894) @ 3.29\n",
      "\n"
     ]
    }
   ],
   "source": [
    "print(\"Updated Inventory:\")\n",
    "print(store.inventory)"
   ]
  },
  {
   "cell_type": "code",
   "execution_count": 16,
   "id": "26644876-3e16-426b-a00a-ab65fe97f840",
   "metadata": {},
   "outputs": [
    {
     "ename": "Exception",
     "evalue": "Max carts exceded",
     "output_type": "error",
     "traceback": [
      "\u001b[0;31m---------------------------------------------------------------------------\u001b[0m",
      "\u001b[0;31mException\u001b[0m                                 Traceback (most recent call last)",
      "Input \u001b[0;32mIn [16]\u001b[0m, in \u001b[0;36m<cell line: 1>\u001b[0;34m()\u001b[0m\n\u001b[1;32m      1\u001b[0m \u001b[38;5;28;01mfor\u001b[39;00m i \u001b[38;5;129;01min\u001b[39;00m \u001b[38;5;28mrange\u001b[39m(\u001b[38;5;241m20\u001b[39m):\n\u001b[0;32m----> 2\u001b[0m     \u001b[43mstore\u001b[49m\u001b[38;5;241;43m.\u001b[39;49m\u001b[43mget_cart\u001b[49m\u001b[43m(\u001b[49m\u001b[43m)\u001b[49m\n",
      "Input \u001b[0;32mIn [9]\u001b[0m, in \u001b[0;36mStore.get_cart\u001b[0;34m(self)\u001b[0m\n\u001b[1;32m      7\u001b[0m Store\u001b[38;5;241m.\u001b[39mMAX_CARTS \u001b[38;5;241m-\u001b[39m\u001b[38;5;241m=\u001b[39m \u001b[38;5;241m1\u001b[39m\n\u001b[1;32m      8\u001b[0m \u001b[38;5;28;01mif\u001b[39;00m Store\u001b[38;5;241m.\u001b[39mMAX_CARTS \u001b[38;5;241m==\u001b[39m \u001b[38;5;241m0\u001b[39m:\n\u001b[0;32m----> 9\u001b[0m     \u001b[38;5;28;01mraise\u001b[39;00m \u001b[38;5;167;01mException\u001b[39;00m (\u001b[38;5;124m\"\u001b[39m\u001b[38;5;124mMax carts exceded\u001b[39m\u001b[38;5;124m\"\u001b[39m)\n\u001b[1;32m     10\u001b[0m \u001b[38;5;28;01melse\u001b[39;00m :\n\u001b[1;32m     11\u001b[0m     \u001b[38;5;28mself\u001b[39m\u001b[38;5;241m.\u001b[39mshopping_cart \u001b[38;5;241m=\u001b[39m ShoppingCart()\n",
      "\u001b[0;31mException\u001b[0m: Max carts exceded"
     ]
    }
   ],
   "source": [
    "for i in range(20):\n",
    "    store.get_cart()"
   ]
  },
  {
   "cell_type": "code",
   "execution_count": null,
   "id": "6d01959e-51d4-4117-a475-0798ede50bdf",
   "metadata": {},
   "outputs": [],
   "source": [
    "my_cart = store.get_cart()\n",
    "my_cart.add_items(store.inventory.find_item(4013), 3) # raises your  exception\n"
   ]
  },
  {
   "cell_type": "code",
   "execution_count": 17,
   "id": "2af0275e-e269-49f7-a75e-c98bd7ddd62f",
   "metadata": {},
   "outputs": [
    {
     "ename": "Exception",
     "evalue": "Cannot Add Floting values.",
     "output_type": "error",
     "traceback": [
      "\u001b[0;31m---------------------------------------------------------------------------\u001b[0m",
      "\u001b[0;31mException\u001b[0m                                 Traceback (most recent call last)",
      "Input \u001b[0;32mIn [17]\u001b[0m, in \u001b[0;36m<cell line: 1>\u001b[0;34m()\u001b[0m\n\u001b[0;32m----> 1\u001b[0m \u001b[43mmy_cart\u001b[49m\u001b[38;5;241;43m.\u001b[39;49m\u001b[43madd_items\u001b[49m\u001b[43m(\u001b[49m\u001b[43mstore\u001b[49m\u001b[38;5;241;43m.\u001b[39;49m\u001b[43minventory\u001b[49m\u001b[38;5;241;43m.\u001b[39;49m\u001b[43mfind_item\u001b[49m\u001b[43m(\u001b[49m\u001b[38;5;241;43m38902\u001b[39;49m\u001b[43m)\u001b[49m\u001b[43m,\u001b[49m\u001b[43m \u001b[49m\u001b[38;5;241;43m1.5\u001b[39;49m\u001b[43m)\u001b[49m\n",
      "Input \u001b[0;32mIn [8]\u001b[0m, in \u001b[0;36mShoppingCart.add_items\u001b[0;34m(self, sitem, amount)\u001b[0m\n\u001b[1;32m      4\u001b[0m \u001b[38;5;28mself\u001b[39m\u001b[38;5;241m.\u001b[39mamount  \u001b[38;5;241m=\u001b[39m amount \u001b[38;5;28;01mif\u001b[39;00m amount \u001b[38;5;129;01mis\u001b[39;00m \u001b[38;5;129;01mnot\u001b[39;00m \u001b[38;5;28;01mNone\u001b[39;00m \u001b[38;5;28;01melse\u001b[39;00m \u001b[38;5;241m1\u001b[39m\n\u001b[1;32m      5\u001b[0m \u001b[38;5;28;01mif\u001b[39;00m (\u001b[38;5;129;01mnot\u001b[39;00m \u001b[38;5;28misinstance\u001b[39m(sitem,BulkItem)) \u001b[38;5;129;01mand\u001b[39;00m (\u001b[38;5;28misinstance\u001b[39m(\u001b[38;5;28mself\u001b[39m\u001b[38;5;241m.\u001b[39mamount, \u001b[38;5;28mfloat\u001b[39m)):\n\u001b[0;32m----> 6\u001b[0m     \u001b[38;5;28;01mraise\u001b[39;00m \u001b[38;5;167;01mException\u001b[39;00m (\u001b[38;5;124m\"\u001b[39m\u001b[38;5;124mCannot Add Floting values.\u001b[39m\u001b[38;5;124m\"\u001b[39m)   \n\u001b[1;32m      7\u001b[0m \u001b[38;5;28;01melse\u001b[39;00m:\n\u001b[1;32m      8\u001b[0m     \u001b[38;5;28;01mif\u001b[39;00m sitem \u001b[38;5;129;01min\u001b[39;00m ShoppingCart\u001b[38;5;241m.\u001b[39mcart\u001b[38;5;241m.\u001b[39mkeys():\n",
      "\u001b[0;31mException\u001b[0m: Cannot Add Floting values."
     ]
    }
   ],
   "source": [
    "my_cart.add_items(store.inventory.find_item(38902), 1.5) # raises your exception\n"
   ]
  },
  {
   "cell_type": "code",
   "execution_count": 18,
   "id": "cc26a7b1-88ce-471e-b815-99ff361272ec",
   "metadata": {},
   "outputs": [
    {
     "ename": "Exception",
     "evalue": "Specified Amount is not present in the inventory to remove",
     "output_type": "error",
     "traceback": [
      "\u001b[0;31m---------------------------------------------------------------------------\u001b[0m",
      "\u001b[0;31mException\u001b[0m                                 Traceback (most recent call last)",
      "Input \u001b[0;32mIn [18]\u001b[0m, in \u001b[0;36m<cell line: 1>\u001b[0;34m()\u001b[0m\n\u001b[0;32m----> 1\u001b[0m \u001b[43mstore\u001b[49m\u001b[38;5;241;43m.\u001b[39;49m\u001b[43minventory\u001b[49m\u001b[38;5;241;43m.\u001b[39;49m\u001b[43mremove_items\u001b[49m\u001b[43m(\u001b[49m\u001b[43mstore\u001b[49m\u001b[38;5;241;43m.\u001b[39;49m\u001b[43minventory\u001b[49m\u001b[38;5;241;43m.\u001b[39;49m\u001b[43mfind_item\u001b[49m\u001b[43m(\u001b[49m\u001b[38;5;241;43m27894\u001b[39;49m\u001b[43m)\u001b[49m\u001b[43m,\u001b[49m\u001b[43m \u001b[49m\u001b[38;5;241;43m3\u001b[39;49m\u001b[43m)\u001b[49m\n",
      "Input \u001b[0;32mIn [6]\u001b[0m, in \u001b[0;36mInventory.remove_items\u001b[0;34m(self, sitem, amount)\u001b[0m\n\u001b[1;32m     27\u001b[0m         Inventory\u001b[38;5;241m.\u001b[39mstore_dict[sitem][\u001b[38;5;124m\"\u001b[39m\u001b[38;5;124mAmount\u001b[39m\u001b[38;5;124m\"\u001b[39m] \u001b[38;5;241m-\u001b[39m\u001b[38;5;241m=\u001b[39m \u001b[38;5;28mself\u001b[39m\u001b[38;5;241m.\u001b[39mamount\n\u001b[1;32m     28\u001b[0m     \u001b[38;5;28;01melse\u001b[39;00m:\n\u001b[0;32m---> 29\u001b[0m         \u001b[38;5;28;01mraise\u001b[39;00m \u001b[38;5;167;01mException\u001b[39;00m(\u001b[38;5;124m\"\u001b[39m\u001b[38;5;124mSpecified Amount is not present in the inventory to remove\u001b[39m\u001b[38;5;124m\"\u001b[39m)\n\u001b[1;32m     30\u001b[0m \u001b[38;5;28;01melse\u001b[39;00m:\n\u001b[1;32m     31\u001b[0m     \u001b[38;5;28;01mraise\u001b[39;00m \u001b[38;5;167;01mException\u001b[39;00m(\u001b[38;5;124m\"\u001b[39m\u001b[38;5;124mThe item specified is not present in the Inventory\u001b[39m\u001b[38;5;124m\"\u001b[39m)\n",
      "\u001b[0;31mException\u001b[0m: Specified Amount is not present in the inventory to remove"
     ]
    }
   ],
   "source": [
    "store.inventory.remove_items(store.inventory.find_item(27894), 3) # raises your exception"
   ]
  },
  {
   "cell_type": "code",
   "execution_count": null,
   "id": "bce4c4ed-0b06-4e51-a486-ddff0a4f709b",
   "metadata": {},
   "outputs": [],
   "source": []
  }
 ],
 "metadata": {
  "kernelspec": {
   "display_name": "Python 3.10",
   "language": "python",
   "name": "python3"
  },
  "language_info": {
   "codemirror_mode": {
    "name": "ipython",
    "version": 3
   },
   "file_extension": ".py",
   "mimetype": "text/x-python",
   "name": "python",
   "nbconvert_exporter": "python",
   "pygments_lexer": "ipython3",
   "version": "3.10.5"
  }
 },
 "nbformat": 4,
 "nbformat_minor": 5
}
